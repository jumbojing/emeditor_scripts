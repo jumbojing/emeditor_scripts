{
  "nbformat": 4,
  "nbformat_minor": 0,
  "metadata": {
    "colab": {
      "name": "test11.ipynb",
      "version": "0.3.2",
      "provenance": [],
      "include_colab_link": true
    },
    "language_info": {
      "codemirror_mode": {
        "name": "ipython",
        "version": 3
      },
      "file_extension": ".py",
      "mimetype": "text/x-python",
      "name": "python",
      "nbconvert_exporter": "python",
      "pygments_lexer": "ipython3",
      "version": "3.7.3"
    },
    "kernelspec": {
      "display_name": "Python 3",
      "language": "python",
      "name": "python3"
    }
  },
  "cells": [
    {
      "cell_type": "markdown",
      "metadata": {
        "id": "view-in-github",
        "colab_type": "text"
      },
      "source": [
        "<a href=\"https://colab.research.google.com/github/jumbojing/emeditor_scripts/blob/master/test11.ipynb\" target=\"_parent\"><img src=\"https://colab.research.google.com/assets/colab-badge.svg\" alt=\"Open In Colab\"/></a>"
      ]
    },
    {
      "cell_type": "markdown",
      "metadata": {
        "id": "BaVK01UXXL_b",
        "colab_type": "text"
      },
      "source": [
        "# 测试\n",
        "- 先在\\和\"前加\\避免冲突\n",
        "- 换尾部\n",
        "- 换头部\n",
        "- 换回车\n",
        "- 加[前编码\n",
        "- 加]后编码\n",
        "- 加头尾\n",
        "- 回车\n",
        "- 去双回车\n",
        "- 去多余回车\n",
        "\n"
      ]
    },
    {
      "cell_type": "code",
      "metadata": {
        "id": "WmNIJrqdXL_m",
        "colab_type": "code",
        "colab": {},
        "outputId": "496a23eb-4cff-4d94-b625-aa5d18318295"
      },
      "source": [
        "def test(a):\n",
        "    print(a)\n",
        "a = \"helloworld\"    \n",
        "test(a)\n",
        "\n"
      ],
      "execution_count": 0,
      "outputs": [
        {
          "output_type": "stream",
          "text": [
            "helloworld\n"
          ],
          "name": "stdout"
        }
      ]
    },
    {
      "cell_type": "markdown",
      "metadata": {
        "scrolled": true,
        "id": "cA3eFf2gXMAQ",
        "colab_type": "text"
      },
      "source": [
        "\n",
        "## 注意不要用单引号\n",
        "不知道为啥出错\n",
        "\n",
        "这是个在emeditor里应用markdown编辑ipynb文件的插件\n",
        "可以从这里下载[md2ipynb_md](https://drive.google.com/open?id=1O8YQcbVpZ9ASzaTzn-sfIX8mxTTyk_xT)"
      ]
    },
    {
      "cell_type": "markdown",
      "metadata": {
        "scrolled": true,
        "id": "M9ftplBZXMAU",
        "colab_type": "text"
      },
      "source": [
        ""
      ]
    }
  ]
}
